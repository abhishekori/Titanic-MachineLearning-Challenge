{
 "cells": [
  {
   "cell_type": "code",
   "execution_count": 82,
   "metadata": {},
   "outputs": [],
   "source": [
    "get_processed_data_script_file = os.path.join(os.path.pardir,'src','data','get_processed_data.py')"
   ]
  },
  {
   "cell_type": "code",
   "execution_count": 83,
   "metadata": {},
   "outputs": [
    {
     "name": "stdout",
     "output_type": "stream",
     "text": [
      "Overwriting ../src/data/get_processed_data.py\n"
     ]
    }
   ],
   "source": [
    "%%writefile $get_processed_data_script_file\n",
    "\n",
    "import pandas as pd\n",
    "import numpy as np\n",
    "import os\n",
    "\n",
    "def read_data():\n",
    "    \n",
    "    raw_data_path = os.path.join(os.path.pardir,'data','raw')\n",
    "    train_file_path = os.path.join(raw_data_path,'train.csv')\n",
    "    test_file_path = os.path.join(raw_data_path,'test.csv')\n",
    "    \n",
    "    train_df = pd.read_csv(train_file_path,index_col='PassengerId')\n",
    "    test_df = pd.read_csv(test_file_path,index_col='PassengerId')\n",
    "    test_df['Survived'] = -888\n",
    "    df =pd.concat((train_df,test_df),axis=0)\n",
    "    return df"
   ]
  },
  {
   "cell_type": "code",
   "execution_count": 84,
   "metadata": {},
   "outputs": [
    {
     "name": "stderr",
     "output_type": "stream",
     "text": [
      "/home/force/anaconda3/lib/python3.7/site-packages/ipykernel_launcher.py:16: FutureWarning: Sorting because non-concatenation axis is not aligned. A future version\n",
      "of pandas will change to not sort by default.\n",
      "\n",
      "To accept the future behavior, pass 'sort=False'.\n",
      "\n",
      "To retain the current behavior and silence the warning, pass 'sort=True'.\n",
      "\n",
      "  app.launch_new_instance()\n"
     ]
    }
   ],
   "source": [
    "df = read_data()"
   ]
  },
  {
   "cell_type": "code",
   "execution_count": 85,
   "metadata": {},
   "outputs": [
    {
     "name": "stderr",
     "output_type": "stream",
     "text": [
      "/home/force/anaconda3/lib/python3.7/site-packages/ipykernel_launcher.py:16: FutureWarning: Sorting because non-concatenation axis is not aligned. A future version\n",
      "of pandas will change to not sort by default.\n",
      "\n",
      "To accept the future behavior, pass 'sort=False'.\n",
      "\n",
      "To retain the current behavior and silence the warning, pass 'sort=True'.\n",
      "\n",
      "  app.launch_new_instance()\n"
     ]
    }
   ],
   "source": [
    "def process_data(df):\n",
    "    return (df\n",
    "            .assign(Title=lambda x:x.Name.map(get_title))\n",
    "           .pipe(fill_missing_values)\n",
    "           .assign(Fare_Bin = lambda x: pd.qcut(x.Fare, 4, labels =['very_low','low','high','very_high']))\n",
    "           .assign(AgeState = lambda x: np.where(x.Age >=18 , 'Adult','Child'))\n",
    "           .assign(FamilySize = lambda x: x.Parch+x.SibSp+1)\n",
    "           .assign(IsMother = lambda x: np.where(((x.Sex=='femail') & (x.Parch>0) & (x.Age>18) & (x.Title!='Miss')),1,0))\n",
    "           .assign(Cabin = lambda x: np.where(x.Cabin == 'T',np.nan,x.Cabin))\n",
    "           .assign(Deck = lambda x :x.Cabin.map(get_deck))\n",
    "           .assign(IsMale = lambda x:np.where(x.Sex == 'male',1,0))\n",
    "           .pipe(pd.get_dummies,columns=['Deck','Pclass','Title','Fare_Bin','Embarked','AgeState'])\n",
    "           \n",
    "           .drop(['Cabin','Name','Ticket','Parch','SibSp','Sex'],axis=1)\n",
    "           \n",
    "           .pipe(reorder_columns))\n",
    "\n",
    "def write_data(df):\n",
    "    processed_data_path = os.path.join(os.path.pardir,'data','processed')\n",
    "    write_train_path = os.path.join(processed_data_path,'train.csv')\n",
    "    write_test_path = os.path.join(processed_data_path,'test.csv')\n",
    "    \n",
    "    df[df.Survived!=-888].to_csv(write_train_path)\n",
    "    \n",
    "    columns = [column for column in df.columns if column!='Survived']\n",
    "    \n",
    "    df[df.Survived==-888][columns].to_csv(write_test_path)\n",
    "    \n",
    "if __name__=='__main__':\n",
    "    df=read_data()\n",
    "    df=process_data(df)\n",
    "    write_data(df)\n",
    "    "
   ]
  },
  {
   "cell_type": "code",
   "execution_count": 86,
   "metadata": {},
   "outputs": [],
   "source": [
    "def get_title(name):\n",
    "    title_group = {\n",
    "        'mr':'Mr',\n",
    "        'ms':'Mrs',\n",
    "        'mrs':'Mrs',\n",
    "        'miss':'Miss',\n",
    "        'master':'Master',\n",
    "        'don':'Sir',\n",
    "        'rev':'Sir',\n",
    "        'dr':'Officer',\n",
    "        'mme':'Mrs',\n",
    "        'major':'Officer',\n",
    "        'lady':'Lady',\n",
    "        'sir':'Sir',\n",
    "        'mlle':'Miss',\n",
    "        'col':'Officer',\n",
    "        'capt':'Officer',\n",
    "        'the countess':'Lady',\n",
    "        'jonkheer':'Sir',\n",
    "        'dona':'Lady'\n",
    "    }\n",
    "    first_name_with_title = name.split(',')[1]\n",
    "    title = first_name_with_title.split('.')[0]\n",
    "    title = title.strip().lower()\n",
    "    return title_group[title]\n",
    "\n",
    "def fill_missing_values(df):\n",
    "    \n",
    "    df.Embarked.fillna('C',inplace=True)\n",
    "    \n",
    "    median_fare = df [(df.Pclass==3) & (df.Embarked=='S')]['Fare'].median()\n",
    "    df.Fare.fillna(median_fare,inplace=True)\n",
    "    \n",
    "    title_age_median = df.groupby('Title').Age.transform('median')\n",
    "    df.Age.fillna(title_age_median,inplace=True)\n",
    "    return df\n",
    "\n",
    "def get_deck(cabin):\n",
    "    return np.where(pd.notnull(cabin),str(cabin)[0].upper(),'z')\n",
    "\n",
    "def reorder_columns(df):\n",
    "    columns = [column for column in df.columns if column!='Survived']\n",
    "    columns = ['Survived']+columns\n",
    "    df = df[columns]\n",
    "    return df\n",
    "\n",
    "    \n",
    "    "
   ]
  },
  {
   "cell_type": "code",
   "execution_count": 87,
   "metadata": {},
   "outputs": [],
   "source": [
    "# process_data(df)"
   ]
  },
  {
   "cell_type": "code",
   "execution_count": 88,
   "metadata": {},
   "outputs": [],
   "source": [
    "!python $get_processed_data_script_file\n"
   ]
  },
  {
   "cell_type": "code",
   "execution_count": 89,
   "metadata": {},
   "outputs": [],
   "source": [
    "# train_df = pd.read_csv(write_train_path)\n",
    "# train_df.info()\n",
    "\n",
    "# test_df = pd.read_csv(write_test_path)\n",
    "# test_df.info()"
   ]
  }
 ],
 "metadata": {
  "kernelspec": {
   "display_name": "Python 3",
   "language": "python",
   "name": "python3"
  },
  "language_info": {
   "codemirror_mode": {
    "name": "ipython",
    "version": 3
   },
   "file_extension": ".py",
   "mimetype": "text/x-python",
   "name": "python",
   "nbconvert_exporter": "python",
   "pygments_lexer": "ipython3",
   "version": "3.7.1"
  }
 },
 "nbformat": 4,
 "nbformat_minor": 2
}
